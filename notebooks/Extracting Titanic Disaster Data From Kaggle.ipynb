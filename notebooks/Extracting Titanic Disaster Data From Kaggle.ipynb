{
 "cells": [
  {
   "cell_type": "markdown",
   "metadata": {},
   "source": [
    "# Extracting Titanic Disaster Data From Kaggle"
   ]
  },
  {
   "cell_type": "code",
   "execution_count": 2,
   "metadata": {},
   "outputs": [
    {
     "name": "stdout",
     "output_type": "stream",
     "text": [
      "Collecting python-dotenv\n",
      "  Downloading https://files.pythonhosted.org/packages/7f/ee/e0cd2d8ba548e4c3e8c9e70d76e423b3e8b8e4eec351f51292d828c735d2/python_dotenv-0.12.0-py2.py3-none-any.whl\n",
      "Requirement already satisfied: typing; python_version < \"3.5\" in c:\\programdata\\anaconda2\\lib\\site-packages (from python-dotenv) (3.7.4.1)\n",
      "Installing collected packages: python-dotenv\n",
      "Successfully installed python-dotenv-0.12.0\n"
     ]
    },
    {
     "name": "stderr",
     "output_type": "stream",
     "text": [
      "DEPRECATION: Python 2.7 will reach the end of its life on January 1st, 2020. Please upgrade your Python as Python 2.7 won't be maintained after that date. A future version of pip will drop support for Python 2.7. More details about Python 2 support in pip, can be found at https://pip.pypa.io/en/latest/development/release-process/#python-2-support\n"
     ]
    }
   ],
   "source": [
    "!pip install python-dotenv"
   ]
  },
  {
   "cell_type": "code",
   "execution_count": 3,
   "metadata": {},
   "outputs": [],
   "source": [
    "from dotenv import load_dotenv, find_dotenv"
   ]
  },
  {
   "cell_type": "code",
   "execution_count": 4,
   "metadata": {},
   "outputs": [
    {
     "name": "stdout",
     "output_type": "stream",
     "text": [
      "C:\\Users\\oramo\\Titanic\\.env\n"
     ]
    }
   ],
   "source": [
    "#find .env by searching all dir\n",
    "dotenv_path = find_dotenv()\n",
    "print(dotenv_path)"
   ]
  },
  {
   "cell_type": "code",
   "execution_count": 5,
   "metadata": {},
   "outputs": [
    {
     "data": {
      "text/plain": [
       "True"
      ]
     },
     "execution_count": 5,
     "metadata": {},
     "output_type": "execute_result"
    }
   ],
   "source": [
    "load_dotenv(dotenv_path)"
   ]
  },
  {
   "cell_type": "code",
   "execution_count": 7,
   "metadata": {},
   "outputs": [
    {
     "name": "stdout",
     "output_type": "stream",
     "text": [
      "ismailmohammad\n"
     ]
    }
   ],
   "source": [
    "import os\n",
    "KAGGAL_USERNAME = os.environ.get(\"KAGGAL_USERNAME\")\n",
    "KAGGAL_PASSWORD = os.environ.get(\"KAGGAL_PASSWORD\")\n",
    "print(KAGGAL_USERNAME)\n",
    "#print(KAGGAL_PASSWORD)"
   ]
  },
  {
   "cell_type": "code",
   "execution_count": 2,
   "metadata": {},
   "outputs": [],
   "source": [
    "#imports\n",
    "import requests\n",
    "from requests import Session\n",
    "import os\n",
    "from dotenv import load_dotenv, find_dotenv"
   ]
  },
  {
   "cell_type": "code",
   "execution_count": 3,
   "metadata": {},
   "outputs": [],
   "source": [
    "dotenv_path = find_dotenv()\n",
    "load_dotenv(dotenv_path)\n",
    "\n",
    "#payload for post\n",
    "payload = {\n",
    "    'action': 'login',\n",
    "    'username': os.environ.get(\"KAGGAL_USERNAME\"),\n",
    "    'password': os.environ.get(\"KAGGAL_PASSWORD\")\n",
    "}\n",
    "\n",
    "#urls \n",
    "url_train = 'https://www.kaggle.com/c/titanic/download/GQf0y8ebHO0C4JXscPPp%2Fversions%2FXkNkvXwqPPVG0Qt3MtQT%2Ffiles%2Ftrain.csv'\n",
    "url_test = 'https://www.kaggle.com/c/titanic/download/GQf0y8ebHO0C4JXscPPp%2Fversions%2FXkNkvXwqPPVG0Qt3MtQT%2Ffiles%2Ftest.csv'\n",
    "\n",
    "# setup session\n",
    "with Session() as c:\n",
    "    c.post('https://www.kaggle.com/account/login?phase=emailSignIn&returnUrl=%2F', data=payload)\n",
    "    response = c.get(url_test)\n",
    "    #print(response)\n",
    "    #print(response.text)\n",
    "    #from IPython.core.display import display, HTML\n",
    "    #display(HTML(response.text))\n"
   ]
  },
  {
   "cell_type": "code",
   "execution_count": 18,
   "metadata": {},
   "outputs": [],
   "source": [
    "def extract_data(url, file_path):\n",
    "    '''\n",
    "    Extract data from kaggle\n",
    "    '''\n",
    "    with Session() as c:\n",
    "        c.post('https://www.kaggle.com/account/login?phase=emailSignIn&returnUrl=%2F', data=payload)\n",
    "        with open(file_path, 'w') as handle:\n",
    "            response = c.get(url, stream=True)\n",
    "            for block in response.iter_content(1024):\n",
    "                handle.write(block)\n",
    "        \n",
    "    \n",
    "        "
   ]
  },
  {
   "cell_type": "code",
   "execution_count": 20,
   "metadata": {},
   "outputs": [
    {
     "name": "stdout",
     "output_type": "stream",
     "text": [
      "..\\data\\raw\n",
      "..\\data\\raw\\train.csv\n",
      "..\\data\\raw\\test.csv\n"
     ]
    }
   ],
   "source": [
    "#urls\n",
    "url_train = 'https://www.kaggle.com/c/titanic/download/GQf0y8ebHO0C4JXscPPp%2Fversions%2FXkNkvXwqPPVG0Qt3MtQT%2Ffiles%2Ftrain.csv'\n",
    "url_test = 'https://www.kaggle.com/c/titanic/download/GQf0y8ebHO0C4JXscPPp%2Fversions%2FXkNkvXwqPPVG0Qt3MtQT%2Ffiles%2Ftest.csv'\n",
    "\n",
    "#file paths\n",
    "raw_data_path = os.path.join(os.path.pardir,'data','raw')\n",
    "print(raw_data_path)\n",
    "train_data_path = os.path.join(raw_data_path,'train.csv')\n",
    "test_data_path = os.path.join(raw_data_path,'test.csv')\n",
    "print(train_data_path)\n",
    "print(test_data_path)\n",
    "\n",
    "#extract data\n",
    "extract_data(url_train, train_data_path)\n",
    "extract_data(url_test, test_data_path)\n",
    "\n",
    "\n"
   ]
  },
  {
   "cell_type": "code",
   "execution_count": 23,
   "metadata": {},
   "outputs": [
    {
     "name": "stdout",
     "output_type": "stream",
     "text": [
      " Volume in drive C has no label.\n",
      " Volume Serial Number is AE35-1A70\n",
      "\n",
      " Directory of C:\\Users\\oramo\\Titanic\\data\\raw\n",
      "\n",
      "05/10/2020  12:53 AM    <DIR>          .\n",
      "05/10/2020  12:53 AM    <DIR>          ..\n",
      "01/09/2020  11:36 PM                 0 .gitkeep\n",
      "05/10/2020  12:53 AM             9,340 test.csv\n",
      "05/10/2020  12:53 AM             9,160 train.csv\n",
      "               3 File(s)         18,500 bytes\n",
      "               2 Dir(s)  478,226,784,256 bytes free\n"
     ]
    }
   ],
   "source": [
    "!dir ..\\data\\raw"
   ]
  },
  {
   "cell_type": "markdown",
   "metadata": {},
   "source": [
    "## Building the file script"
   ]
  },
  {
   "cell_type": "code",
   "execution_count": 26,
   "metadata": {},
   "outputs": [
    {
     "name": "stdout",
     "output_type": "stream",
     "text": [
      "..\\src\\data\\get_raw_data.py\n"
     ]
    }
   ],
   "source": [
    "get_raw_data_script_file = os.path.join(os.path.pardir,'src','data','get_raw_data.py')\n",
    "print(get_raw_data_script_file)"
   ]
  },
  {
   "cell_type": "code",
   "execution_count": 35,
   "metadata": {},
   "outputs": [
    {
     "name": "stdout",
     "output_type": "stream",
     "text": [
      "Overwriting ..\\src\\data\\get_raw_data.py\n"
     ]
    }
   ],
   "source": [
    "%%writefile $get_raw_data_script_file\n",
    "import os\n",
    "from dotenv import load_dotenv, find_dotenv\n",
    "from requests import Session\n",
    "import logging\n",
    "\n",
    "#payload for post\n",
    "payload = {\n",
    "    'action': 'login',\n",
    "    'username': os.environ.get(\"KAGGAL_USERNAME\"),\n",
    "    'password': os.environ.get(\"KAGGAL_PASSWORD\")\n",
    "}\n",
    "\n",
    "def extract_data(url, file_path):\n",
    "    '''\n",
    "    Extract data from kaggle\n",
    "    '''\n",
    "    with Session() as c:\n",
    "        c.post('https://www.kaggle.com/account/login?phase=emailSignIn&returnUrl=%2F', data=payload)\n",
    "        with open(file_path, 'w') as handle:\n",
    "            response = c.get(url, stream=True)\n",
    "            for block in response.iter_content(1024):\n",
    "                handle.write(block)\n",
    "\n",
    "def main(project_dir):\n",
    "    '''\n",
    "    main method\n",
    "    '''\n",
    "    #get logging\n",
    "    logger = logging.getLogger(__name__)\n",
    "    logger.info('getting raw data')\n",
    "    \n",
    "    #urls \n",
    "    url_train = 'https://www.kaggle.com/c/titanic/download/GQf0y8ebHO0C4JXscPPp%2Fversions%2FXkNkvXwqPPVG0Qt3MtQT%2Ffiles%2Ftrain.csv'\n",
    "    url_test = 'https://www.kaggle.com/c/titanic/download/GQf0y8ebHO0C4JXscPPp%2Fversions%2FXkNkvXwqPPVG0Qt3MtQT%2Ffiles%2Ftest.csv'\n",
    "\n",
    "    #file paths\n",
    "    raw_data_path = os.path.join(os.path.pardir,'data','raw')\n",
    "    train_data_path = os.path.join(raw_data_path,'train.csv')\n",
    "    test_data_path = os.path.join(raw_data_path,'test.csv')\n",
    "    \n",
    "    #extract data\n",
    "    extract_data(url_train, train_data_path)\n",
    "    extract_data(url_test, test_data_path)\n",
    "    logging.info('downloading raw training and test data')\n",
    "\n",
    "if __name__ == '__main__':\n",
    "    #getting root dir \n",
    "    project_dir = os.path.join(os.path.dirname(__file__), os.pardir, os.pardir)\n",
    "    print(__file__)\n",
    "    print(__name__)\n",
    "    #print(__main__)\n",
    "    \n",
    "    #setup logger\n",
    "    log_fmt = '%(asctime)s - %(name)s - %(levelname)s - %(message)s'\n",
    "    logging.basicConfig(level=logging.INFO, format=log_fmt)\n",
    "    \n",
    "    #find .env \n",
    "    dotenv_path = find_dotenv()\n",
    "    #load .env\n",
    "    load_dotenv(dotenv_path)\n",
    "    \n",
    "    #call the main\n",
    "    main(project_dir)\n",
    "    "
   ]
  },
  {
   "cell_type": "code",
   "execution_count": 36,
   "metadata": {},
   "outputs": [
    {
     "name": "stdout",
     "output_type": "stream",
     "text": [
      "..\\src\\data\\get_raw_data.py\n",
      "__main__\n"
     ]
    },
    {
     "name": "stderr",
     "output_type": "stream",
     "text": [
      "2020-05-10 01:33:17,226 - __main__ - INFO - getting raw data\n",
      "2020-05-10 01:33:17,579 - root - INFO - downloading raw training and test data\n"
     ]
    }
   ],
   "source": [
    "!python $get_raw_data_script_file"
   ]
  },
  {
   "cell_type": "code",
   "execution_count": null,
   "metadata": {},
   "outputs": [],
   "source": []
  }
 ],
 "metadata": {
  "kernelspec": {
   "display_name": "Python 2",
   "language": "python",
   "name": "python2"
  },
  "language_info": {
   "codemirror_mode": {
    "name": "ipython",
    "version": 2
   },
   "file_extension": ".py",
   "mimetype": "text/x-python",
   "name": "python",
   "nbconvert_exporter": "python",
   "pygments_lexer": "ipython2",
   "version": "2.7.16"
  }
 },
 "nbformat": 4,
 "nbformat_minor": 2
}
