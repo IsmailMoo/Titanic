{
 "cells": [
  {
   "cell_type": "markdown",
   "metadata": {},
   "source": [
    "# Extracting Titanic Disaster Data From Kaggle"
   ]
  },
  {
   "cell_type": "code",
   "execution_count": 2,
   "metadata": {},
   "outputs": [
    {
     "name": "stdout",
     "output_type": "stream",
     "text": [
      "Collecting python-dotenv\n",
      "  Downloading https://files.pythonhosted.org/packages/7f/ee/e0cd2d8ba548e4c3e8c9e70d76e423b3e8b8e4eec351f51292d828c735d2/python_dotenv-0.12.0-py2.py3-none-any.whl\n",
      "Requirement already satisfied: typing; python_version < \"3.5\" in c:\\programdata\\anaconda2\\lib\\site-packages (from python-dotenv) (3.7.4.1)\n",
      "Installing collected packages: python-dotenv\n",
      "Successfully installed python-dotenv-0.12.0\n"
     ]
    },
    {
     "name": "stderr",
     "output_type": "stream",
     "text": [
      "DEPRECATION: Python 2.7 will reach the end of its life on January 1st, 2020. Please upgrade your Python as Python 2.7 won't be maintained after that date. A future version of pip will drop support for Python 2.7. More details about Python 2 support in pip, can be found at https://pip.pypa.io/en/latest/development/release-process/#python-2-support\n"
     ]
    }
   ],
   "source": [
    "!pip install python-dotenv"
   ]
  },
  {
   "cell_type": "code",
   "execution_count": 3,
   "metadata": {},
   "outputs": [],
   "source": [
    "from dotenv import load_dotenv, find_dotenv"
   ]
  },
  {
   "cell_type": "code",
   "execution_count": 4,
   "metadata": {},
   "outputs": [
    {
     "name": "stdout",
     "output_type": "stream",
     "text": [
      "C:\\Users\\oramo\\Titanic\\.env\n"
     ]
    }
   ],
   "source": [
    "#find .env by searching all dir\n",
    "dotenv_path = find_dotenv()\n",
    "print(dotenv_path)"
   ]
  },
  {
   "cell_type": "code",
   "execution_count": 5,
   "metadata": {},
   "outputs": [
    {
     "data": {
      "text/plain": [
       "True"
      ]
     },
     "execution_count": 5,
     "metadata": {},
     "output_type": "execute_result"
    }
   ],
   "source": [
    "load_dotenv(dotenv_path)"
   ]
  },
  {
   "cell_type": "code",
   "execution_count": 6,
   "metadata": {},
   "outputs": [
    {
     "name": "stdout",
     "output_type": "stream",
     "text": [
      "ismailmohammad\n",
      "forkaggle\n"
     ]
    }
   ],
   "source": [
    "import os\n",
    "KAGGAL_USERNAME = os.environ.get(\"KAGGAL_USERNAME\")\n",
    "KAGGAL_PASSWORD = os.environ.get(\"KAGGAL_PASSWORD\")\n",
    "print(KAGGAL_USERNAME)\n",
    "print(KAGGAL_PASSWORD)"
   ]
  },
  {
   "cell_type": "code",
   "execution_count": 7,
   "metadata": {},
   "outputs": [],
   "source": [
    "#imports\n",
    "import requests\n",
    "from requests import Session\n",
    "import os\n",
    "from dotenv import load_dotenv, find_dotenv"
   ]
  },
  {
   "cell_type": "code",
   "execution_count": 17,
   "metadata": {},
   "outputs": [
    {
     "name": "stdout",
     "output_type": "stream",
     "text": [
      "\n"
     ]
    }
   ],
   "source": [
    "dotenv_path = find_dotenv()\n",
    "load_dotenv(dotenv_path)\n",
    "\n",
    "#payload for post\n",
    "payload = {\n",
    "    'action': 'login',\n",
    "    'username': 'ismailmohammad',\n",
    "    'password': 'forkaggle'\n",
    "}\n",
    "\n",
    "url_train = 'https://www.kaggle.com/c/titanic/download/train.csv'\n",
    "url_test = 'https://www.kaggle.com/hesh97/titanicdataset-traincsv/download/p94tP7cl3Sblz9Mr9uex%2Fversions%2FblK62WI2nwS2wzudTEZZ%2Ffiles%2Ftrain.csv?datasetVersionNumber=1'\n",
    "with Session() as c:\n",
    "    p = c.post('https://www.kaggle.com/account/login?phase=emailSignIn&returnUrl=%2F', data=payload)\n",
    "    print p.content\n",
    "    #response = c.get(url_test)\n",
    "    #print(response)\n",
    "    #print(response.text)\n",
    "    #from IPython.core.display import display, HTML\n",
    "    #display(HTML(response.text))\n"
   ]
  },
  {
   "cell_type": "code",
   "execution_count": null,
   "metadata": {},
   "outputs": [],
   "source": []
  }
 ],
 "metadata": {
  "kernelspec": {
   "display_name": "Python 2",
   "language": "python",
   "name": "python2"
  },
  "language_info": {
   "codemirror_mode": {
    "name": "ipython",
    "version": 2
   },
   "file_extension": ".py",
   "mimetype": "text/x-python",
   "name": "python",
   "nbconvert_exporter": "python",
   "pygments_lexer": "ipython2",
   "version": "2.7.16"
  }
 },
 "nbformat": 4,
 "nbformat_minor": 2
}
