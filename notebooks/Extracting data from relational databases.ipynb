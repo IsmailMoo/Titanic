{
 "cells": [
  {
   "cell_type": "markdown",
   "metadata": {},
   "source": [
    "# Extracting data from relational databases "
   ]
  },
  {
   "cell_type": "markdown",
   "metadata": {},
   "source": [
    "## SQLite Database"
   ]
  },
  {
   "cell_type": "markdown",
   "metadata": {},
   "source": [
    "Import Package "
   ]
  },
  {
   "cell_type": "code",
   "execution_count": 2,
   "metadata": {},
   "outputs": [],
   "source": [
    "#import sqlite package\n",
    "import sqlite3"
   ]
  },
  {
   "cell_type": "code",
   "execution_count": 3,
   "metadata": {},
   "outputs": [],
   "source": [
    "#Create a connection to database : it will creates the database if not avilable \n",
    "connection = sqlite3.connect(\"classroomDB.db\")\n",
    "connection.close()"
   ]
  },
  {
   "cell_type": "markdown",
   "metadata": {},
   "source": [
    "Create table"
   ]
  },
  {
   "cell_type": "code",
   "execution_count": 6,
   "metadata": {},
   "outputs": [],
   "source": [
    "#open connection\n",
    "connection = sqlite3.connect(\"classroomDB.db\")\n",
    "#open cursor\n",
    "cursor = connection.cursor()\n",
    "drop_table = \"\"\"\n",
    "drop table classroom;\n",
    "\"\"\"\n",
    "cursor.execute(drop_table)\n",
    "\n",
    "#create table ddl\n",
    "create_table = \"\"\"\n",
    "Create table classroom (\n",
    "student_id integer primary key,\n",
    "name varchar(20),\n",
    "gender char(1),\n",
    "physics_marks integer,\n",
    "chemistry_marks integer,\n",
    "math_marks integer\n",
    ");\n",
    "\"\"\"\n",
    "#execute sql\n",
    "cursor.execute(create_table)\n",
    "connection.commit()\n",
    "connection.close()"
   ]
  },
  {
   "cell_type": "markdown",
   "metadata": {},
   "source": [
    "insert data"
   ]
  },
  {
   "cell_type": "code",
   "execution_count": 7,
   "metadata": {},
   "outputs": [],
   "source": [
    "connection = sqlite3.connect(\"classroomDB.db\")\n",
    "cursor = connection.cursor()\n",
    "insert_row = \"\"\"insert into classroom values(1,\"Raj\",\"M\",90,89,96);\"\"\"\n",
    "cursor.execute(insert_row)\n",
    "connection.commit()\n",
    "connection.close()"
   ]
  },
  {
   "cell_type": "code",
   "execution_count": 8,
   "metadata": {},
   "outputs": [],
   "source": [
    "classroom_data = [\n",
    "    (2,\"Rani\",\"M\",92,81,99),\n",
    "    (3,\"Rana\",\"M\",98,82,95),\n",
    "    (4,\"Dingu\",\"M\",96,94,97),\n",
    "    (5,\"Jungi\",\"M\",97,80,91)]\n",
    "\n",
    "connection = sqlite3.connect(\"classroomDB.db\")\n",
    "cursor = connection.cursor()\n",
    "\n",
    "for st in classroom_data:\n",
    "    insert_row = \"\"\"insert into classroom values({0},\"{1}\",\"{2}\",{3},{4},{5});\"\"\".format(st[0],st[1],st[2],st[3],st[4],st[5])\n",
    "    #print insert_row\n",
    "    cursor.execute(insert_row)\n",
    "connection.commit()\n",
    "connection.close()"
   ]
  },
  {
   "cell_type": "markdown",
   "metadata": {},
   "source": [
    "Extract data "
   ]
  },
  {
   "cell_type": "code",
   "execution_count": 10,
   "metadata": {},
   "outputs": [
    {
     "name": "stdout",
     "output_type": "stream",
     "text": [
      "(1, u'Raj', u'M', 90, 89, 96)\n",
      "(2, u'Rani', u'M', 92, 81, 99)\n",
      "(3, u'Rana', u'M', 98, 82, 95)\n",
      "(4, u'Dingu', u'M', 96, 94, 97)\n",
      "(5, u'Jungi', u'M', 97, 80, 91)\n"
     ]
    }
   ],
   "source": [
    "connection = sqlite3.connect(\"classroomDB.db\")\n",
    "cursor = connection.cursor()\n",
    "query = \"\"\"select * from classroom;\"\"\"\n",
    "results = cursor.execute(query)\n",
    "for row in results:\n",
    "    print(row)\n",
    "connection.close()"
   ]
  },
  {
   "cell_type": "code",
   "execution_count": null,
   "metadata": {},
   "outputs": [],
   "source": []
  }
 ],
 "metadata": {
  "kernelspec": {
   "display_name": "Python 2",
   "language": "python",
   "name": "python2"
  },
  "language_info": {
   "codemirror_mode": {
    "name": "ipython",
    "version": 2
   },
   "file_extension": ".py",
   "mimetype": "text/x-python",
   "name": "python",
   "nbconvert_exporter": "python",
   "pygments_lexer": "ipython2",
   "version": "2.7.16"
  }
 },
 "nbformat": 4,
 "nbformat_minor": 2
}
